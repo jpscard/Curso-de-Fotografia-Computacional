{
  "nbformat": 4,
  "nbformat_minor": 0,
  "metadata": {
    "colab": {
      "provenance": [],
      "gpuType": "T4",
      "include_colab_link": true
    },
    "kernelspec": {
      "name": "python3",
      "display_name": "Python 3"
    },
    "language_info": {
      "name": "python"
    },
    "accelerator": "GPU"
  },
  "cells": [
    {
      "cell_type": "markdown",
      "metadata": {
        "id": "view-in-github",
        "colab_type": "text"
      },
      "source": [
        "<a href=\"https://colab.research.google.com/github/jpscard/Curso-de-Fotografia-Computacional/blob/main/Jo%C3%A3o_Paulo_Cardoso_M2_Avaliacao_pratica_aprendizado_maquina_profundo.ipynb\" target=\"_parent\"><img src=\"https://colab.research.google.com/assets/colab-badge.svg\" alt=\"Open In Colab\"/></a>"
      ]
    },
    {
      "cell_type": "markdown",
      "source": [
        "``lux.ai - Curso de Fotografia Computacional - Aprendizado de Máquina e Profundo``\n",
        "\n",
        "## Classificação com MLP em PyTorch\n",
        "\n",
        "Já utilizamos uma rede MLP para fazer a classificação de dígitos com sklearn. Também realizamos testes com nosso modelo em dados advindos do PyTorch.\n",
        "Nesse colab vamos utilizar uma MLP novamente para realizar a classficação de roupas utilizando o PyTorch para treinamento no dataset FashionMNIST.\n",
        "\n",
        "```OBS: Quando pedido, realize a operação na célula correspondente atribuindo o resultado na variável indicada. Não altere os nomes das variáveis utilizadas. Você pode utilizar celular adicionais para realizar testes, utilizando variaveis auxiliares para visualizar resultados intermediários.```"
      ],
      "metadata": {
        "id": "paOJvOeUK_A-"
      }
    },
    {
      "cell_type": "markdown",
      "source": [
        "### 01 - Imports"
      ],
      "metadata": {
        "id": "vxfSn59JLzst"
      }
    },
    {
      "cell_type": "code",
      "execution_count": 1,
      "metadata": {
        "id": "yLc-DYnNKsR9"
      },
      "outputs": [],
      "source": [
        "%%capture\n",
        "!pip install torchsummary\n",
        "\n",
        "# modelagem e dados\n",
        "import torch\n",
        "from torchvision import transforms, datasets\n",
        "from torch import nn, optim\n",
        "from torch.utils import data\n",
        "\n",
        "\n",
        "# avaliação de modelos\n",
        "from sklearn.metrics import confusion_matrix, ConfusionMatrixDisplay\n",
        "from sklearn.metrics import classification_report\n",
        "\n",
        "# plotting e visualização\n",
        "from torchsummary import summary\n",
        "import matplotlib.pyplot as plt\n",
        "import seaborn as sns\n",
        "sns.set()\n",
        "\n",
        "DEVICE = \"cuda\" if torch.cuda.is_available() else \"cpu\""
      ]
    },
    {
      "cell_type": "markdown",
      "source": [
        "### 02 - Datasets e Dataloaders\n",
        "\n",
        "Utilizaremos o FashionMNIST, que é composto por 70000 imagens no formato 28x28 pixels caracterizando um problema de classificação de imagens em preto e branco de diferentes roupas e calçados."
      ],
      "metadata": {
        "id": "7q_knNo6MC0k"
      }
    },
    {
      "cell_type": "code",
      "source": [
        "print(datasets.FashionMNIST.__doc__)"
      ],
      "metadata": {
        "id": "3pwEvpKVL_UE",
        "colab": {
          "base_uri": "https://localhost:8080/"
        },
        "outputId": "443f5211-9941-4e1b-e3c6-2e39f89cd935"
      },
      "execution_count": 2,
      "outputs": [
        {
          "output_type": "stream",
          "name": "stdout",
          "text": [
            "`Fashion-MNIST <https://github.com/zalandoresearch/fashion-mnist>`_ Dataset.\n",
            "\n",
            "    Args:\n",
            "        root (string): Root directory of dataset where ``FashionMNIST/raw/train-images-idx3-ubyte``\n",
            "            and  ``FashionMNIST/raw/t10k-images-idx3-ubyte`` exist.\n",
            "        train (bool, optional): If True, creates dataset from ``train-images-idx3-ubyte``,\n",
            "            otherwise from ``t10k-images-idx3-ubyte``.\n",
            "        download (bool, optional): If True, downloads the dataset from the internet and\n",
            "            puts it in root directory. If dataset is already downloaded, it is not\n",
            "            downloaded again.\n",
            "        transform (callable, optional): A function/transform that  takes in an PIL image\n",
            "            and returns a transformed version. E.g, ``transforms.RandomCrop``\n",
            "        target_transform (callable, optional): A function/transform that takes in the\n",
            "            target and transforms it.\n",
            "    \n"
          ]
        }
      ]
    },
    {
      "cell_type": "markdown",
      "source": [
        "Q1 - O FashionMNIST possui apenas um partição de treino e uma de teste.\n",
        " - Utilize o padrão do train_ds para gerar o test_ds\n",
        " - Divida o train_ds gerando um valid_ds com 15% dos dados (utilize o data.random_split)\n",
        "\n",
        " Refs:\n",
        "\n",
        " Dataloaders e datasets: https://pytorch.org/tutorials/beginner/basics/data_tutorial.html\n"
      ],
      "metadata": {
        "id": "XPwBGCJ0Mp_e"
      }
    },
    {
      "cell_type": "code",
      "source": [
        "transform = transforms.ToTensor()\n",
        "\n",
        "train_ratio = 0.75\n",
        "val_ratio = 0.15\n",
        "test_ratio = 0.1\n",
        "\n",
        "fashion_mnist_ds = datasets.FashionMNIST(\n",
        "    root = \".\",\n",
        "    train = True,\n",
        "    download = True,\n",
        "    transform = transform\n",
        ")\n",
        "\n",
        "# Tamanho dos patchs dos dados\n",
        "train_size = int(train_ratio * len(fashion_mnist_ds))\n",
        "test_size = int(test_ratio * len(fashion_mnist_ds))\n",
        "val_size = len(fashion_mnist_ds) - train_size - test_size\n",
        "\n",
        "# Separação dos patchs\n",
        "train_ds, valid_ds, test_ds = data.random_split(fashion_mnist_ds, [train_size, val_size, test_size])"
      ],
      "metadata": {
        "id": "3huxwoczMSDJ",
        "colab": {
          "base_uri": "https://localhost:8080/"
        },
        "outputId": "e1a8a132-0447-47ac-fdb5-e386a7ca7d96"
      },
      "execution_count": 3,
      "outputs": [
        {
          "output_type": "stream",
          "name": "stdout",
          "text": [
            "Downloading http://fashion-mnist.s3-website.eu-central-1.amazonaws.com/train-images-idx3-ubyte.gz\n",
            "Downloading http://fashion-mnist.s3-website.eu-central-1.amazonaws.com/train-images-idx3-ubyte.gz to ./FashionMNIST/raw/train-images-idx3-ubyte.gz\n"
          ]
        },
        {
          "output_type": "stream",
          "name": "stderr",
          "text": [
            "100%|██████████| 26421880/26421880 [00:02<00:00, 11137403.49it/s]\n"
          ]
        },
        {
          "output_type": "stream",
          "name": "stdout",
          "text": [
            "Extracting ./FashionMNIST/raw/train-images-idx3-ubyte.gz to ./FashionMNIST/raw\n",
            "\n",
            "Downloading http://fashion-mnist.s3-website.eu-central-1.amazonaws.com/train-labels-idx1-ubyte.gz\n",
            "Downloading http://fashion-mnist.s3-website.eu-central-1.amazonaws.com/train-labels-idx1-ubyte.gz to ./FashionMNIST/raw/train-labels-idx1-ubyte.gz\n"
          ]
        },
        {
          "output_type": "stream",
          "name": "stderr",
          "text": [
            "100%|██████████| 29515/29515 [00:00<00:00, 199483.20it/s]\n"
          ]
        },
        {
          "output_type": "stream",
          "name": "stdout",
          "text": [
            "Extracting ./FashionMNIST/raw/train-labels-idx1-ubyte.gz to ./FashionMNIST/raw\n",
            "\n",
            "Downloading http://fashion-mnist.s3-website.eu-central-1.amazonaws.com/t10k-images-idx3-ubyte.gz\n",
            "Downloading http://fashion-mnist.s3-website.eu-central-1.amazonaws.com/t10k-images-idx3-ubyte.gz to ./FashionMNIST/raw/t10k-images-idx3-ubyte.gz\n"
          ]
        },
        {
          "output_type": "stream",
          "name": "stderr",
          "text": [
            "100%|██████████| 4422102/4422102 [00:01<00:00, 3719229.26it/s]\n"
          ]
        },
        {
          "output_type": "stream",
          "name": "stdout",
          "text": [
            "Extracting ./FashionMNIST/raw/t10k-images-idx3-ubyte.gz to ./FashionMNIST/raw\n",
            "\n",
            "Downloading http://fashion-mnist.s3-website.eu-central-1.amazonaws.com/t10k-labels-idx1-ubyte.gz\n",
            "Downloading http://fashion-mnist.s3-website.eu-central-1.amazonaws.com/t10k-labels-idx1-ubyte.gz to ./FashionMNIST/raw/t10k-labels-idx1-ubyte.gz\n"
          ]
        },
        {
          "output_type": "stream",
          "name": "stderr",
          "text": [
            "100%|██████████| 5148/5148 [00:00<00:00, 22680963.23it/s]\n"
          ]
        },
        {
          "output_type": "stream",
          "name": "stdout",
          "text": [
            "Extracting ./FashionMNIST/raw/t10k-labels-idx1-ubyte.gz to ./FashionMNIST/raw\n",
            "\n"
          ]
        }
      ]
    },
    {
      "cell_type": "markdown",
      "source": [
        "Q2 - Crie os dataloaders para o conjunto de validação, treino e teste.\n",
        "Utilize os batchs de treino, validação e teste como 128.\n",
        "Defina o num_workers como 2 e mantenha o shuffle e pin_memory habilitado (True)."
      ],
      "metadata": {
        "id": "UHLa5ILZM41z"
      }
    },
    {
      "cell_type": "code",
      "source": [
        "from torch.utils.data import DataLoader\n",
        "\n",
        "train_dl = DataLoader(train_ds, batch_size=64, shuffle=True)\n",
        "val_dl = DataLoader(valid_ds, batch_size=64, shuffle=False)\n",
        "test_dl = DataLoader(test_ds, batch_size=64, shuffle=False)"
      ],
      "metadata": {
        "id": "gKWVvsGbMUnp"
      },
      "execution_count": 4,
      "outputs": []
    },
    {
      "cell_type": "markdown",
      "source": [
        "### 03 - Visualizando dados\n",
        "\n",
        "Vamos visualizar alguns exemplos da base de dados carregada"
      ],
      "metadata": {
        "id": "CSftXXBCNxHY"
      }
    },
    {
      "cell_type": "code",
      "source": [
        "samples, targets = next(iter(test_dl))\n",
        "print(samples.shape, targets.shape)"
      ],
      "metadata": {
        "id": "kwktGnsrN4Ks",
        "colab": {
          "base_uri": "https://localhost:8080/"
        },
        "outputId": "308943f1-34fb-4678-b250-04ce447eac5f"
      },
      "execution_count": 5,
      "outputs": [
        {
          "output_type": "stream",
          "name": "stdout",
          "text": [
            "torch.Size([64, 1, 28, 28]) torch.Size([64])\n"
          ]
        }
      ]
    },
    {
      "cell_type": "code",
      "source": [
        "w = 5\n",
        "fig, ax = plt.subplots(w, w, figsize=(7, 9))\n",
        "for i in range(w):\n",
        "  for j in range(w):\n",
        "    ax[i][j].imshow(samples[i * w + j].permute(1, 2, 0), cmap=\"gray\", interpolation=\"None\")\n",
        "    label = targets[i * w + j].item()\n",
        "    ax[i][j].set_title(test_ds.dataset.classes[int(label)])\n",
        "    ax[i][j].set_xticks([])\n",
        "    ax[i][j].set_yticks([])"
      ],
      "metadata": {
        "id": "tuBGkF2fOLL2",
        "colab": {
          "base_uri": "https://localhost:8080/",
          "height": 726
        },
        "outputId": "afad4fa6-0882-46db-cef0-172271d3c9f3"
      },
      "execution_count": 6,
      "outputs": [
        {
          "output_type": "display_data",
          "data": {
            "text/plain": [
              "<Figure size 700x900 with 25 Axes>"
            ],
            "image/png": "[encoded data removed]"
          },
          "metadata": {}
        }
      ]
    },
    {
      "cell_type": "markdown",
      "source": [
        "### 04 - Criação do modelo\n",
        "\n",
        "Q3 - Agora iremos criar o modelo com PyTorch.\n",
        "\n",
        "Crie a classe MyMLP que herda de nn.Module.\n",
        "A sua classe deve conter em sequência:\n",
        "- 01 - Uma camada Linear de dimensão (in=n, out=256) (nn.Linear)\n",
        "- 02 - Ativação ReLU (nn.ReLU)\n",
        "- 03 - Uma camada Linear de dimensão (in=256, out=o)\n",
        "\n",
        "** Lembrando que n é a dimensão da entrada 28x28 (para a MLP precisamos redimensionar a entrada para um vetor unidimensional, dica: utilize a função nn.Flatten() antes de passar pela camada Linear).\n",
        "\"o\" deve ser o numero de classes que queremos classificar (10).\n",
        "Defina o modelo de tal forma que possamos instancia-lo como MyMLP(n, o).\n",
        "\n",
        "** Note que todo modelo do PyTorch deve conter o método `__init__` onde criamos as camadas e o `forward` onde realizamos a inferência.\n",
        "\n",
        "** A segunda camada linear não possuirá ativação, vamos retornar o vetor de predição diretamente\n",
        "\n",
        "Seu modelo deve ser parecido com o seguinte resultado:\n",
        "\n",
        "```\n",
        "MyMLP(\n",
        "  (flatten): Flatten(start_dim=1, end_dim=-1)\n",
        "  (mlp): Sequential(\n",
        "    (0): Linear(in_features=784, out_features=256, bias=True)\n",
        "    (1): ReLU()\n",
        "    (2): Linear(in_features=256, out_features=10, bias=True)\n",
        "  )\n",
        ")\n",
        "```\n",
        "\n",
        "Refs:\n",
        "\n",
        "Gerando modelos: https://pytorch.org/tutorials/beginner/introyt/modelsyt_tutorial.html\n",
        "\n",
        "nn.Flatten: https://pytorch.org/docs/stable/generated/torch.nn.Flatten.html\n",
        "\n",
        "nn.Linear: https://pytorch.org/docs/stable/generated/torch.nn.Linear.html\n",
        "\n",
        "nn.ReLU: https://pytorch.org/docs/stable/generated/torch.nn.ReLU.html\n"
      ],
      "metadata": {
        "id": "-WPyI8VSOXhc"
      }
    },
    {
      "cell_type": "code",
      "source": [
        "class MyMLP(nn.Module):\n",
        "    def __init__(self, n, o):\n",
        "        super(MyMLP, self).__init__()\n",
        "\n",
        "        # Camada para redimensionar a entrada para um vetor unidimensional\n",
        "        self.flatten = nn.Flatten(start_dim=1, end_dim=-1)\n",
        "\n",
        "        # Camadas da MLP\n",
        "        self.mlp = nn.Sequential(\n",
        "            nn.Linear(in_features=n, out_features=256, bias=True),\n",
        "            nn.ReLU(),\n",
        "            nn.Linear(in_features=256, out_features=o, bias=True)\n",
        "        )\n",
        "\n",
        "    def forward(self, x):\n",
        "        # Aplica a operação de flatten\n",
        "        x = self.flatten(x)\n",
        "\n",
        "        # Passa pela MLP\n",
        "        x = self.mlp(x)\n",
        "\n",
        "        return x\n",
        "\n",
        "model_classifier = MyMLP(28*28,10).to(DEVICE)\n",
        "print(model_classifier)"
      ],
      "metadata": {
        "id": "AupBM1pTQM8n",
        "colab": {
          "base_uri": "https://localhost:8080/"
        },
        "outputId": "830bdc8d-1c89-4772-c9d0-33289c23effd"
      },
      "execution_count": 7,
      "outputs": [
        {
          "output_type": "stream",
          "name": "stdout",
          "text": [
            "MyMLP(\n",
            "  (flatten): Flatten(start_dim=1, end_dim=-1)\n",
            "  (mlp): Sequential(\n",
            "    (0): Linear(in_features=784, out_features=256, bias=True)\n",
            "    (1): ReLU()\n",
            "    (2): Linear(in_features=256, out_features=10, bias=True)\n",
            "  )\n",
            ")\n"
          ]
        }
      ]
    },
    {
      "cell_type": "code",
      "source": [
        "summary(model_classifier, input_size=(1,28,28), batch_size=128, device=DEVICE)"
      ],
      "metadata": {
        "id": "SXDTBcqIReQZ",
        "colab": {
          "base_uri": "https://localhost:8080/"
        },
        "outputId": "c26f9ab7-f15f-43af-e57c-3c3b2a74d329"
      },
      "execution_count": 8,
      "outputs": [
        {
          "output_type": "stream",
          "name": "stdout",
          "text": [
            "----------------------------------------------------------------\n",
            "        Layer (type)               Output Shape         Param #\n",
            "================================================================\n",
            "           Flatten-1                 [128, 784]               0\n",
            "            Linear-2                 [128, 256]         200,960\n",
            "              ReLU-3                 [128, 256]               0\n",
            "            Linear-4                  [128, 10]           2,570\n",
            "================================================================\n",
            "Total params: 203,530\n",
            "Trainable params: 203,530\n",
            "Non-trainable params: 0\n",
            "----------------------------------------------------------------\n",
            "Input size (MB): 0.38\n",
            "Forward/backward pass size (MB): 1.28\n",
            "Params size (MB): 0.78\n",
            "Estimated Total Size (MB): 2.43\n",
            "----------------------------------------------------------------\n"
          ]
        }
      ]
    },
    {
      "cell_type": "markdown",
      "source": [
        "### 05 - Loss e Otimização\n",
        "\n",
        "Q4 - Defina a função de loss utilizando o nn.CrossEntropyLoss e, o otimizador como o optim.Adam. Utilize no Adam os parametros do seu modelo (model) e learning rate = 1E-4\n",
        "\n",
        "Refs:\n",
        "\n",
        "Cross Entropy: https://pytorch.org/docs/stable/generated/torch.nn.CrossEntropyLoss.html\n",
        "\n",
        "Optimizers: https://pytorch.org/docs/stable/optim.html"
      ],
      "metadata": {
        "id": "ec0YtPljSmOP"
      }
    },
    {
      "cell_type": "code",
      "source": [
        "loss_fn   = nn.CrossEntropyLoss()\n",
        "LEARNING_RATE = 1e-4\n",
        "optimizer = optim.Adam(params=model_classifier.parameters(), lr=LEARNING_RATE)"
      ],
      "metadata": {
        "id": "MBdj_absS22d"
      },
      "execution_count": 9,
      "outputs": []
    },
    {
      "cell_type": "markdown",
      "source": [
        "### 06 - Definindo os passos de treinamento e validação\n",
        "\n",
        "Q5 - Complete a função train_step e valid_step para que possamos realizar a otimização e avaliação do modelo.\n",
        "- Lembre de setar o modelo para cada passo de forma correta (e.g., train e eval).\n",
        "- Os exemplos e as labels devem estar no mesmo DEVICE que o modelo"
      ],
      "metadata": {
        "id": "BYjndye0TA5y"
      }
    },
    {
      "cell_type": "code",
      "source": [
        "class AverageMeter:\n",
        "    \"\"\"Computes and stores the average and current value\"\"\"\n",
        "    # fonte: https://kaiyangzhou.github.io/deep-person-reid/_modules/torchreid/utils/avgmeter.html#AverageMeter\n",
        "    def __init__(self):\n",
        "        self.reset()\n",
        "\n",
        "    def reset(self):\n",
        "        self.avg = 0\n",
        "        self.sum = 0\n",
        "        self.count = 0\n",
        "\n",
        "    def update(self, val, n=1):\n",
        "        self.sum += val * n\n",
        "        self.count += n\n",
        "        self.avg = self.sum / self.count"
      ],
      "metadata": {
        "id": "Uerf846YTL_N"
      },
      "execution_count": 10,
      "outputs": []
    },
    {
      "cell_type": "code",
      "source": [
        "def train_step(model, train_dl, loss_fn, optimizer, device):\n",
        "\n",
        "  # ative o modelo com o modo de treino\n",
        "  model.train()\n",
        "\n",
        "  train_loss = AverageMeter()\n",
        "  for train_instances, instance_labels in train_dl:\n",
        "\n",
        "    # mova o batch e os rotulos para o mesmo dispositivo do modelo\n",
        "    train_instances = train_instances.to(device)\n",
        "    instance_labels = instance_labels.to(device)\n",
        "\n",
        "    # faça a previsão com o modelo\n",
        "    logits = model_classifier(train_instances)\n",
        "\n",
        "    # lembre de zerar os gradientes para evitar acumular\n",
        "    optimizer.zero_grad()\n",
        "\n",
        "    # calcule o loss\n",
        "    loss = loss_fn(logits, instance_labels)\n",
        "    train_loss.update(loss.item(), len(train_instances))\n",
        "\n",
        "    # agora faça o backpropagation\n",
        "    loss.backward()\n",
        "\n",
        "    # atualize os parâmetros da rede\n",
        "    optimizer.step()\n",
        "\n",
        "  return train_loss.avg"
      ],
      "metadata": {
        "id": "CXlFBvFgTOAD"
      },
      "execution_count": 11,
      "outputs": []
    },
    {
      "cell_type": "code",
      "source": [
        "def validation_step(model, val_dl, loss_fn, device):\n",
        "  # ativar modo de avaliação\n",
        "  ## insira o código aqui\n",
        "\n",
        "  val_loss = AverageMeter()\n",
        "\n",
        "  # desativar computação de gradientes\n",
        "  with torch.no_grad():\n",
        "    for val_instances, instance_labels in val_dl:\n",
        "      # mova o batch e os rotulos para o mesmo dispositivo do modelo\n",
        "      val_instances = val_instances.to(device)\n",
        "      instance_labels = instance_labels.to(device)\n",
        "\n",
        "\n",
        "      # faça previsão com o modelo\n",
        "      ## insira o código aqui\n",
        "      logits = model_classifier(val_instances)\n",
        "      # calcule o loss\n",
        "      loss = loss_fn(logits, instance_labels)\n",
        "\n",
        "      val_loss.update(loss.item(), len(val_instances))\n",
        "\n",
        "  return val_loss.avg"
      ],
      "metadata": {
        "id": "TbQ_um3jUGjq"
      },
      "execution_count": 12,
      "outputs": []
    },
    {
      "cell_type": "markdown",
      "source": [
        "### 07 - Treinamento do modelo\n",
        "\n",
        "Vamos executar o modelo utilizando o train_step e valid_step que definimos anteriormente.\n",
        "\n",
        "Q6 - Complete o código para realizar o treinamento."
      ],
      "metadata": {
        "id": "A0GrUXTyUbnT"
      }
    },
    {
      "cell_type": "code",
      "source": [
        "history = {\n",
        "    \"train_loss\": [],\n",
        "    \"val_loss\": []\n",
        "}\n",
        "\n",
        "EPOCHS = 100 # numero de vezes que iteramos no dataset\n",
        "\n",
        "for epoch in range(EPOCHS):\n",
        "  # complete com train_step e valid_step utilizando os valores definidos anteriormente\n",
        "  train_loss = train_step(model_classifier, train_dl, loss_fn, optimizer, DEVICE)\n",
        "  val_loss   = validation_step(model_classifier, val_dl, loss_fn, DEVICE)\n",
        "\n",
        "  history[\"train_loss\"].append(train_loss)\n",
        "  history[\"val_loss\"].append(val_loss)\n",
        "\n",
        "  print(f\"Época [{epoch + 1}/{EPOCHS}]\")\n",
        "  print(\"-\" * 35)\n",
        "  print(f\"Train loss: {round(train_loss, 6):<7}\")\n",
        "  print(f\"Valid. loss: {round(val_loss, 6):<7}\\n\")"
      ],
      "metadata": {
        "id": "lOLINELkUaoK",
        "colab": {
          "base_uri": "https://localhost:8080/"
        },
        "outputId": "919aa716-1756-45b8-f79a-d96a0e11347c"
      },
      "execution_count": 13,
      "outputs": [
        {
          "output_type": "stream",
          "name": "stdout",
          "text": [
            "Época [1/100]\n",
            "-----------------------------------\n",
            "Train loss: 0.900466\n",
            "Valid. loss: 0.605775\n",
            "\n",
            "Época [2/100]\n",
            "-----------------------------------\n",
            "Train loss: 0.551074\n",
            "Valid. loss: 0.521654\n",
            "\n",
            "Época [3/100]\n",
            "-----------------------------------\n",
            "Train loss: 0.488491\n",
            "Valid. loss: 0.471627\n",
            "\n",
            "Época [4/100]\n",
            "-----------------------------------\n",
            "Train loss: 0.456495\n",
            "Valid. loss: 0.451153\n",
            "\n",
            "Época [5/100]\n",
            "-----------------------------------\n",
            "Train loss: 0.434002\n",
            "Valid. loss: 0.439238\n",
            "\n",
            "Época [6/100]\n",
            "-----------------------------------\n",
            "Train loss: 0.419642\n",
            "Valid. loss: 0.423786\n",
            "\n",
            "Época [7/100]\n",
            "-----------------------------------\n",
            "Train loss: 0.406145\n",
            "Valid. loss: 0.411697\n",
            "\n",
            "Época [8/100]\n",
            "-----------------------------------\n",
            "Train loss: 0.396163\n",
            "Valid. loss: 0.407236\n",
            "\n",
            "Época [9/100]\n",
            "-----------------------------------\n",
            "Train loss: 0.386065\n",
            "Valid. loss: 0.397745\n",
            "\n",
            "Época [10/100]\n",
            "-----------------------------------\n",
            "Train loss: 0.377778\n",
            "Valid. loss: 0.389217\n",
            "\n",
            "Época [11/100]\n",
            "-----------------------------------\n",
            "Train loss: 0.3706 \n",
            "Valid. loss: 0.382819\n",
            "\n",
            "Época [12/100]\n",
            "-----------------------------------\n",
            "Train loss: 0.36392\n",
            "Valid. loss: 0.37643\n",
            "\n",
            "Época [13/100]\n",
            "-----------------------------------\n",
            "Train loss: 0.356932\n",
            "Valid. loss: 0.375672\n",
            "\n",
            "Época [14/100]\n",
            "-----------------------------------\n",
            "Train loss: 0.351511\n",
            "Valid. loss: 0.372258\n",
            "\n",
            "Época [15/100]\n",
            "-----------------------------------\n",
            "Train loss: 0.345692\n",
            "Valid. loss: 0.367381\n",
            "\n",
            "Época [16/100]\n",
            "-----------------------------------\n",
            "Train loss: 0.340504\n",
            "Valid. loss: 0.363355\n",
            "\n",
            "Época [17/100]\n",
            "-----------------------------------\n",
            "Train loss: 0.335619\n",
            "Valid. loss: 0.358092\n",
            "\n",
            "Época [18/100]\n",
            "-----------------------------------\n",
            "Train loss: 0.330788\n",
            "Valid. loss: 0.358936\n",
            "\n",
            "Época [19/100]\n",
            "-----------------------------------\n",
            "Train loss: 0.326539\n",
            "Valid. loss: 0.354882\n",
            "\n",
            "Época [20/100]\n",
            "-----------------------------------\n",
            "Train loss: 0.321141\n",
            "Valid. loss: 0.347539\n",
            "\n",
            "Época [21/100]\n",
            "-----------------------------------\n",
            "Train loss: 0.317498\n",
            "Valid. loss: 0.347017\n",
            "\n",
            "Época [22/100]\n",
            "-----------------------------------\n",
            "Train loss: 0.31367\n",
            "Valid. loss: 0.344884\n",
            "\n",
            "Época [23/100]\n",
            "-----------------------------------\n",
            "Train loss: 0.310982\n",
            "Valid. loss: 0.345327\n",
            "\n",
            "Época [24/100]\n",
            "-----------------------------------\n",
            "Train loss: 0.306375\n",
            "Valid. loss: 0.338246\n",
            "\n",
            "Época [25/100]\n",
            "-----------------------------------\n",
            "Train loss: 0.302265\n",
            "Valid. loss: 0.339204\n",
            "\n",
            "Época [26/100]\n",
            "-----------------------------------\n",
            "Train loss: 0.298166\n",
            "Valid. loss: 0.333279\n",
            "\n",
            "Época [27/100]\n",
            "-----------------------------------\n",
            "Train loss: 0.294801\n",
            "Valid. loss: 0.334629\n",
            "\n",
            "Época [28/100]\n",
            "-----------------------------------\n",
            "Train loss: 0.292028\n",
            "Valid. loss: 0.331197\n",
            "\n",
            "Época [29/100]\n",
            "-----------------------------------\n",
            "Train loss: 0.28807\n",
            "Valid. loss: 0.332921\n",
            "\n",
            "Época [30/100]\n",
            "-----------------------------------\n",
            "Train loss: 0.285363\n",
            "Valid. loss: 0.33093\n",
            "\n",
            "Época [31/100]\n",
            "-----------------------------------\n",
            "Train loss: 0.282629\n",
            "Valid. loss: 0.32975\n",
            "\n",
            "Época [32/100]\n",
            "-----------------------------------\n",
            "Train loss: 0.279389\n",
            "Valid. loss: 0.331027\n",
            "\n",
            "Época [33/100]\n",
            "-----------------------------------\n",
            "Train loss: 0.276471\n",
            "Valid. loss: 0.331344\n",
            "\n",
            "Época [34/100]\n",
            "-----------------------------------\n",
            "Train loss: 0.273469\n",
            "Valid. loss: 0.322271\n",
            "\n",
            "Época [35/100]\n",
            "-----------------------------------\n",
            "Train loss: 0.271583\n",
            "Valid. loss: 0.321078\n",
            "\n",
            "Época [36/100]\n",
            "-----------------------------------\n",
            "Train loss: 0.268345\n",
            "Valid. loss: 0.31856\n",
            "\n",
            "Época [37/100]\n",
            "-----------------------------------\n",
            "Train loss: 0.265399\n",
            "Valid. loss: 0.318905\n",
            "\n",
            "Época [38/100]\n",
            "-----------------------------------\n",
            "Train loss: 0.263914\n",
            "Valid. loss: 0.322148\n",
            "\n",
            "Época [39/100]\n",
            "-----------------------------------\n",
            "Train loss: 0.261076\n",
            "Valid. loss: 0.324528\n",
            "\n",
            "Época [40/100]\n",
            "-----------------------------------\n",
            "Train loss: 0.258058\n",
            "Valid. loss: 0.318201\n",
            "\n",
            "Época [41/100]\n",
            "-----------------------------------\n",
            "Train loss: 0.255834\n",
            "Valid. loss: 0.319586\n",
            "\n",
            "Época [42/100]\n",
            "-----------------------------------\n",
            "Train loss: 0.253881\n",
            "Valid. loss: 0.314578\n",
            "\n",
            "Época [43/100]\n",
            "-----------------------------------\n",
            "Train loss: 0.251503\n",
            "Valid. loss: 0.313963\n",
            "\n",
            "Época [44/100]\n",
            "-----------------------------------\n",
            "Train loss: 0.24895\n",
            "Valid. loss: 0.315695\n",
            "\n",
            "Época [45/100]\n",
            "-----------------------------------\n",
            "Train loss: 0.246635\n",
            "Valid. loss: 0.31569\n",
            "\n",
            "Época [46/100]\n",
            "-----------------------------------\n",
            "Train loss: 0.243977\n",
            "Valid. loss: 0.329178\n",
            "\n",
            "Época [47/100]\n",
            "-----------------------------------\n",
            "Train loss: 0.242981\n",
            "Valid. loss: 0.318319\n",
            "\n",
            "Época [48/100]\n",
            "-----------------------------------\n",
            "Train loss: 0.240347\n",
            "Valid. loss: 0.315462\n",
            "\n",
            "Época [49/100]\n",
            "-----------------------------------\n",
            "Train loss: 0.237425\n",
            "Valid. loss: 0.310549\n",
            "\n",
            "Época [50/100]\n",
            "-----------------------------------\n",
            "Train loss: 0.236175\n",
            "Valid. loss: 0.319782\n",
            "\n",
            "Época [51/100]\n",
            "-----------------------------------\n",
            "Train loss: 0.234003\n",
            "Valid. loss: 0.311889\n",
            "\n",
            "Época [52/100]\n",
            "-----------------------------------\n",
            "Train loss: 0.232598\n",
            "Valid. loss: 0.314437\n",
            "\n",
            "Época [53/100]\n",
            "-----------------------------------\n",
            "Train loss: 0.230722\n",
            "Valid. loss: 0.306692\n",
            "\n",
            "Época [54/100]\n",
            "-----------------------------------\n",
            "Train loss: 0.228585\n",
            "Valid. loss: 0.311558\n",
            "\n",
            "Época [55/100]\n",
            "-----------------------------------\n",
            "Train loss: 0.226298\n",
            "Valid. loss: 0.304298\n",
            "\n",
            "Época [56/100]\n",
            "-----------------------------------\n",
            "Train loss: 0.224792\n",
            "Valid. loss: 0.31077\n",
            "\n",
            "Época [57/100]\n",
            "-----------------------------------\n",
            "Train loss: 0.222563\n",
            "Valid. loss: 0.30515\n",
            "\n",
            "Época [58/100]\n",
            "-----------------------------------\n",
            "Train loss: 0.220765\n",
            "Valid. loss: 0.306089\n",
            "\n",
            "Época [59/100]\n",
            "-----------------------------------\n",
            "Train loss: 0.21913\n",
            "Valid. loss: 0.31187\n",
            "\n",
            "Época [60/100]\n",
            "-----------------------------------\n",
            "Train loss: 0.216938\n",
            "Valid. loss: 0.301326\n",
            "\n",
            "Época [61/100]\n",
            "-----------------------------------\n",
            "Train loss: 0.215382\n",
            "Valid. loss: 0.305899\n",
            "\n",
            "Época [62/100]\n",
            "-----------------------------------\n",
            "Train loss: 0.213378\n",
            "Valid. loss: 0.307736\n",
            "\n",
            "Época [63/100]\n",
            "-----------------------------------\n",
            "Train loss: 0.212247\n",
            "Valid. loss: 0.304991\n",
            "\n",
            "Época [64/100]\n",
            "-----------------------------------\n",
            "Train loss: 0.209962\n",
            "Valid. loss: 0.306909\n",
            "\n",
            "Época [65/100]\n",
            "-----------------------------------\n",
            "Train loss: 0.208176\n",
            "Valid. loss: 0.302349\n",
            "\n",
            "Época [66/100]\n",
            "-----------------------------------\n",
            "Train loss: 0.20686\n",
            "Valid. loss: 0.303974\n",
            "\n",
            "Época [67/100]\n",
            "-----------------------------------\n",
            "Train loss: 0.204929\n",
            "Valid. loss: 0.303386\n",
            "\n",
            "Época [68/100]\n",
            "-----------------------------------\n",
            "Train loss: 0.202958\n",
            "Valid. loss: 0.309099\n",
            "\n",
            "Época [69/100]\n",
            "-----------------------------------\n",
            "Train loss: 0.201538\n",
            "Valid. loss: 0.3033 \n",
            "\n",
            "Época [70/100]\n",
            "-----------------------------------\n",
            "Train loss: 0.200681\n",
            "Valid. loss: 0.306388\n",
            "\n",
            "Época [71/100]\n",
            "-----------------------------------\n",
            "Train loss: 0.199129\n",
            "Valid. loss: 0.300283\n",
            "\n",
            "Época [72/100]\n",
            "-----------------------------------\n",
            "Train loss: 0.197088\n",
            "Valid. loss: 0.302761\n",
            "\n",
            "Época [73/100]\n",
            "-----------------------------------\n",
            "Train loss: 0.195606\n",
            "Valid. loss: 0.30486\n",
            "\n",
            "Época [74/100]\n",
            "-----------------------------------\n",
            "Train loss: 0.194867\n",
            "Valid. loss: 0.300598\n",
            "\n",
            "Época [75/100]\n",
            "-----------------------------------\n",
            "Train loss: 0.192371\n",
            "Valid. loss: 0.302136\n",
            "\n",
            "Época [76/100]\n",
            "-----------------------------------\n",
            "Train loss: 0.190428\n",
            "Valid. loss: 0.308509\n",
            "\n",
            "Época [77/100]\n",
            "-----------------------------------\n",
            "Train loss: 0.18929\n",
            "Valid. loss: 0.301697\n",
            "\n",
            "Época [78/100]\n",
            "-----------------------------------\n",
            "Train loss: 0.188062\n",
            "Valid. loss: 0.300732\n",
            "\n",
            "Época [79/100]\n",
            "-----------------------------------\n",
            "Train loss: 0.186479\n",
            "Valid. loss: 0.306078\n",
            "\n",
            "Época [80/100]\n",
            "-----------------------------------\n",
            "Train loss: 0.185403\n",
            "Valid. loss: 0.31317\n",
            "\n",
            "Época [81/100]\n",
            "-----------------------------------\n",
            "Train loss: 0.183623\n",
            "Valid. loss: 0.303801\n",
            "\n",
            "Época [82/100]\n",
            "-----------------------------------\n",
            "Train loss: 0.182314\n",
            "Valid. loss: 0.299075\n",
            "\n",
            "Época [83/100]\n",
            "-----------------------------------\n",
            "Train loss: 0.181374\n",
            "Valid. loss: 0.3013 \n",
            "\n",
            "Época [84/100]\n",
            "-----------------------------------\n",
            "Train loss: 0.17938\n",
            "Valid. loss: 0.303352\n",
            "\n",
            "Época [85/100]\n",
            "-----------------------------------\n",
            "Train loss: 0.178047\n",
            "Valid. loss: 0.303674\n",
            "\n",
            "Época [86/100]\n",
            "-----------------------------------\n",
            "Train loss: 0.176917\n",
            "Valid. loss: 0.306995\n",
            "\n",
            "Época [87/100]\n",
            "-----------------------------------\n",
            "Train loss: 0.175149\n",
            "Valid. loss: 0.305264\n",
            "\n",
            "Época [88/100]\n",
            "-----------------------------------\n",
            "Train loss: 0.173777\n",
            "Valid. loss: 0.302054\n",
            "\n",
            "Época [89/100]\n",
            "-----------------------------------\n",
            "Train loss: 0.172283\n",
            "Valid. loss: 0.301956\n",
            "\n",
            "Época [90/100]\n",
            "-----------------------------------\n",
            "Train loss: 0.171024\n",
            "Valid. loss: 0.30001\n",
            "\n",
            "Época [91/100]\n",
            "-----------------------------------\n",
            "Train loss: 0.170078\n",
            "Valid. loss: 0.303961\n",
            "\n",
            "Época [92/100]\n",
            "-----------------------------------\n",
            "Train loss: 0.168454\n",
            "Valid. loss: 0.305669\n",
            "\n",
            "Época [93/100]\n",
            "-----------------------------------\n",
            "Train loss: 0.168336\n",
            "Valid. loss: 0.3129 \n",
            "\n",
            "Época [94/100]\n",
            "-----------------------------------\n",
            "Train loss: 0.165963\n",
            "Valid. loss: 0.301894\n",
            "\n",
            "Época [95/100]\n",
            "-----------------------------------\n",
            "Train loss: 0.163905\n",
            "Valid. loss: 0.307543\n",
            "\n",
            "Época [96/100]\n",
            "-----------------------------------\n",
            "Train loss: 0.163307\n",
            "Valid. loss: 0.304342\n",
            "\n",
            "Época [97/100]\n",
            "-----------------------------------\n",
            "Train loss: 0.163313\n",
            "Valid. loss: 0.302534\n",
            "\n",
            "Época [98/100]\n",
            "-----------------------------------\n",
            "Train loss: 0.160815\n",
            "Valid. loss: 0.30182\n",
            "\n",
            "Época [99/100]\n",
            "-----------------------------------\n",
            "Train loss: 0.160264\n",
            "Valid. loss: 0.304221\n",
            "\n",
            "Época [100/100]\n",
            "-----------------------------------\n",
            "Train loss: 0.158121\n",
            "Valid. loss: 0.302681\n",
            "\n"
          ]
        }
      ]
    },
    {
      "cell_type": "code",
      "source": [
        "fig = plt.figure()\n",
        "plt.title(\"Cross entropy loss\")\n",
        "plt.plot(history[\"train_loss\"], c=\"g\", label=\"train\")\n",
        "plt.plot(history[\"val_loss\"], c=\"r\", label=\"valid\")\n",
        "plt.legend()"
      ],
      "metadata": {
        "id": "vqu0xz5aVCZQ",
        "colab": {
          "base_uri": "https://localhost:8080/",
          "height": 474
        },
        "outputId": "5d213f09-ee5d-4810-a95d-af4f7d0134ee"
      },
      "execution_count": 14,
      "outputs": [
        {
          "output_type": "execute_result",
          "data": {
            "text/plain": [
              "<matplotlib.legend.Legend at 0x7b12b54231c0>"
            ]
          },
          "metadata": {},
          "execution_count": 14
        },
        {
          "output_type": "display_data",
          "data": {
            "text/plain": [
              "<Figure size 640x480 with 1 Axes>"
            ],
            "image/png": "[encoded data removed]"
          },
          "metadata": {}
        }
      ]
    },
    {
      "cell_type": "markdown",
      "source": [
        "### 08 - Teste\n",
        "\n",
        "Q7 - Por fim, vamos avaliar nosso modelo no conjunto de teste\n",
        "\n",
        "- Defina o modelo como avaliação\n",
        "- passe os exemplos para o device em uso\n",
        "- faça a predição com o modelo\n",
        "- obtenha o vetor de probabilidades a partir da saída do modelo (i.e., use o nn.functional.softmax)\n",
        "- obtenha o indice (numero da classe) que contém o valor máximo de probabilidade (use o torch.argmax)"
      ],
      "metadata": {
        "id": "nd8e010lgC2W"
      }
    },
    {
      "cell_type": "code",
      "source": [
        "all_preds = []\n",
        "all_targets = []\n",
        "all_probs = []\n",
        "\n",
        "total_corrects = 0\n",
        "total_n = 0\n",
        "\n",
        "# 1 defina o modelo para avaliação (eval)\n",
        "## insira o código aqui\n",
        "\n",
        "for test_instances, instance_labels in test_dl:\n",
        "\n",
        "    # 2 mova o batch e os rotulos para o mesmo dispositivo do modelo\n",
        "    test_instances = test_instances.to(DEVICE)\n",
        "    instance_labels = instance_labels.to(DEVICE)\n",
        "\n",
        "    with torch.no_grad():\n",
        "        logits = model_classifier(test_instances)\n",
        "\n",
        "    # 4 obtenha o vetor de probabilidades\n",
        "    probabilities = nn.functional.softmax(logits, 1)\n",
        "    all_probs.append(probabilities.cpu())\n",
        "\n",
        "\n",
        "    # 5 obtenha a classe com max prob\n",
        "    preds = torch.argmax(probabilities, 1)\n",
        "    total_corrects += (preds == instance_labels).sum().item()\n",
        "    total_n += len(test_instances)\n",
        "\n",
        "    all_preds.append(preds.unsqueeze(-1))\n",
        "    all_targets.append(instance_labels.unsqueeze(-1))\n",
        "\n",
        "\n",
        "preds = torch.cat(all_preds).squeeze(-1).cpu()\n",
        "targets = torch.cat(all_targets).squeeze(-1).cpu()"
      ],
      "metadata": {
        "id": "JvDXG_36gHPj"
      },
      "execution_count": 15,
      "outputs": []
    },
    {
      "cell_type": "markdown",
      "source": [
        "Vamos visualizar o resultado a partir da matriz de confusão"
      ],
      "metadata": {
        "id": "fa2BZ6XZggRl"
      }
    },
    {
      "cell_type": "code",
      "source": [
        "fig, ax = plt.subplots(1, 1, figsize=(7, 7))\n",
        "fig.suptitle(\"Matriz de confusão\")\n",
        "ax.grid(False)\n",
        "\n",
        "labels = test_ds.dataset.classes\n",
        "\n",
        "cm = confusion_matrix(targets, preds)\n",
        "cm_display = ConfusionMatrixDisplay(cm, display_labels=labels)\n",
        "cm_display.plot(ax=ax, xticks_rotation=35.0)"
      ],
      "metadata": {
        "id": "SqWFCwS2glJq",
        "colab": {
          "base_uri": "https://localhost:8080/",
          "height": 706
        },
        "outputId": "930785fe-cb7d-4d38-a17a-18c241e37236"
      },
      "execution_count": 16,
      "outputs": [
        {
          "output_type": "execute_result",
          "data": {
            "text/plain": [
              "<sklearn.metrics._plot.confusion_matrix.ConfusionMatrixDisplay at 0x7b12b5493d60>"
            ]
          },
          "metadata": {},
          "execution_count": 16
        },
        {
          "output_type": "display_data",
          "data": {
            "text/plain": [
              "<Figure size 700x700 with 2 Axes>"
            ],
            "image/png": "[encoded data removed]"
          },
          "metadata": {}
        }
      ]
    },
    {
      "cell_type": "code",
      "source": [
        "print(classification_report(targets, preds, target_names=labels, zero_division=0))"
      ],
      "metadata": {
        "id": "tw7VeJhCgqKW",
        "colab": {
          "base_uri": "https://localhost:8080/"
        },
        "outputId": "c4b70221-8610-4d41-f7f9-5e2b86499fc8"
      },
      "execution_count": 17,
      "outputs": [
        {
          "output_type": "stream",
          "name": "stdout",
          "text": [
            "              precision    recall  f1-score   support\n",
            "\n",
            " T-shirt/top       0.77      0.91      0.83       595\n",
            "     Trouser       0.98      0.98      0.98       603\n",
            "    Pullover       0.85      0.79      0.82       588\n",
            "       Dress       0.89      0.91      0.90       596\n",
            "        Coat       0.82      0.81      0.81       582\n",
            "      Sandal       0.97      0.97      0.97       612\n",
            "       Shirt       0.77      0.68      0.72       585\n",
            "     Sneaker       0.95      0.95      0.95       603\n",
            "         Bag       0.98      0.97      0.97       585\n",
            "  Ankle boot       0.96      0.96      0.96       651\n",
            "\n",
            "    accuracy                           0.89      6000\n",
            "   macro avg       0.89      0.89      0.89      6000\n",
            "weighted avg       0.89      0.89      0.89      6000\n",
            "\n"
          ]
        }
      ]
    }
  ]
}