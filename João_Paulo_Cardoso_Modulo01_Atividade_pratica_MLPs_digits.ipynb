{
  "nbformat": 4,
  "nbformat_minor": 0,
  "metadata": {
    "colab": {
      "provenance": [],
      "include_colab_link": true
    },
    "kernelspec": {
      "name": "python3",
      "display_name": "Python 3"
    },
    "language_info": {
      "name": "python"
    }
  },
  "cells": [
    {
      "cell_type": "markdown",
      "metadata": {
        "id": "view-in-github",
        "colab_type": "text"
      },
      "source": [
        "<a href=\"https://colab.research.google.com/github/jpscard/Curso-de-Fotografia-Computacional/blob/main/Jo%C3%A3o_Paulo_Cardoso_Modulo01_Atividade_pratica_MLPs_digits.ipynb\" target=\"_parent\"><img src=\"https://colab.research.google.com/assets/colab-badge.svg\" alt=\"Open In Colab\"/></a>"
      ]
    },
    {
      "cell_type": "markdown",
      "source": [
        "# Classificando digítos com MLPs\n",
        "\n",
        "Vamos utilizar um modelo MLP para realizar a classificação de imagens que possuem digítos (0-9).\n",
        "\n",
        "Para o teste utilizaremos o dataset digits do sklearn (https://scikit-learn.org/stable/auto_examples/classification/plot_digits_classification.html)\n",
        "\n",
        "O dataset é composto por imagens 8x8 em tons de cinza, cada uma com sua label correspondente (0-9).\n",
        "\n",
        "\n",
        "```OBS: Quando pedido, realize a operação na célula correspondente atribuindo o resultado na variável indicada. Não altere os nomes das variáveis utilizadas. Você pode utilizar celular adicionais para realizar testes, utilizando variaveis auxiliares para visualizar resultados intermediários.```"
      ],
      "metadata": {
        "id": "3eOFRXwE0QKb"
      }
    },
    {
      "cell_type": "markdown",
      "source": [
        "## 01 - Importando as bibliotecas e carregando o dataset\n",
        "\n",
        "Utilizamos o módulo datasets do sklearn para carregar os dados a partir da função load_digits(return_X_y=True).\n",
        "\n",
        "Passamos o parâmetro return_X_y com True para que a função retorne os exemplos e as anotações em variaveis separadas, atribuimos o resultado na variavel images e target, respectivamente. As variáveis serão retornadas como numpy.*ndarray*"
      ],
      "metadata": {
        "id": "Qs4SsGMJ0uEl"
      }
    },
    {
      "cell_type": "code",
      "execution_count": 1,
      "metadata": {
        "id": "hUQvqij4z8bv"
      },
      "outputs": [],
      "source": [
        "import matplotlib.pyplot as plt\n",
        "\n",
        "from sklearn import datasets, metrics\n",
        "from sklearn.model_selection import train_test_split\n",
        "from sklearn.neural_network import MLPClassifier\n",
        "\n",
        "import numpy as np\n",
        "import cv2\n",
        "\n",
        "images, target = datasets.load_digits(return_X_y=True)"
      ]
    },
    {
      "cell_type": "code",
      "source": [
        "## 1.1 - Verifique as dimensões das variáveis images e target\n",
        "## Substitua as linhas abaixo para retornar o resultado\n",
        "\n",
        "shape_images = images.shape\n",
        "shape_target = target.shape\n",
        "\n",
        "print(shape_images)\n",
        "print(shape_target)"
      ],
      "metadata": {
        "id": "4Mdn4OAU2n71",
        "colab": {
          "base_uri": "https://localhost:8080/"
        },
        "outputId": "08006e55-c89d-45e6-c0e3-be2258de23b6"
      },
      "execution_count": 2,
      "outputs": [
        {
          "output_type": "stream",
          "name": "stdout",
          "text": [
            "(1797, 64)\n",
            "(1797,)\n"
          ]
        }
      ]
    },
    {
      "cell_type": "code",
      "source": [
        "## 1.2 - Quantos exemplos possui o dataset digits?\n",
        "dataset_size = len(images.data)\n",
        "\n",
        "print(dataset_size)"
      ],
      "metadata": {
        "id": "Kj_M9u8Z4FFk",
        "colab": {
          "base_uri": "https://localhost:8080/"
        },
        "outputId": "6cfeb302-1738-4d05-d8b3-c934cc2fad7d"
      },
      "execution_count": 3,
      "outputs": [
        {
          "output_type": "stream",
          "name": "stdout",
          "text": [
            "1797\n"
          ]
        }
      ]
    },
    {
      "cell_type": "markdown",
      "source": [
        "## 02 - Visualizando os exemplos\n",
        "\n",
        "Utilizando a biblioteca matplotlib, vamos tentar visualizar alguns dos dados disponíveis no dataset."
      ],
      "metadata": {
        "id": "1gN3gOdg4wER"
      }
    },
    {
      "cell_type": "code",
      "source": [
        "_, axes = plt.subplots(nrows=1, ncols=4, figsize=(10, 3))\n",
        "for ax, image, prediction in zip(axes, images, target):\n",
        "    ax.set_axis_off()\n",
        "    image = image.reshape(8, 8)\n",
        "    ax.imshow(image, cmap=plt.cm.gray_r, interpolation=\"nearest\")\n",
        "    ax.set_title(f\"Label: {prediction}\")"
      ],
      "metadata": {
        "id": "fUomUtW148xZ",
        "colab": {
          "base_uri": "https://localhost:8080/",
          "height": 227
        },
        "outputId": "9bde8d00-1391-4547-c617-6a55a26181dd"
      },
      "execution_count": 4,
      "outputs": [
        {
          "output_type": "display_data",
          "data": {
            "text/plain": [
              "<Figure size 1000x300 with 4 Axes>"
            ],
            "image/png": "[encoded data removed]"
          },
          "metadata": {}
        }
      ]
    },
    {
      "cell_type": "markdown",
      "source": [
        "## 03 - Separando as partições\n",
        "\n",
        "Utilize a função train_test_split do sklearn para separar as partições em dois conjuntos (treino e teste). Utilizaremos o conjunto de treino para ajustar o modelo e o conjunto de teste para avaliar o desempenho do nosso modelo.\n",
        "\n",
        "Utilize a função de forma que o conjunto de treino possua 70% dos dados e o conjunto de teste possua 30%.\n",
        "\n",
        "Referência train_test_split: https://scikit-learn.org/stable/modules/generated/sklearn.model_selection.train_test_split.html#sklearn.model_selection.train_test_split"
      ],
      "metadata": {
        "id": "dey-3Riy5ZdO"
      }
    },
    {
      "cell_type": "code",
      "source": [
        "X_train, X_test = None, None\n",
        "y_train, y_test = None, None\n",
        "\n",
        "# 3.1 Utilize a função train_test_split para obter as partições\n",
        "# Utilizar train_test_split para obter as partições\n",
        "# Atribua o resultado nas variaveis acima\n",
        "\n",
        "# INSIRA O CÓDIGO AQUI\n",
        "X_train, X_test, y_train, y_test = train_test_split(images, target, test_size=0.3, random_state=42)\n",
        "\n",
        "# 3.2 Compute o tamanho de cada partição, atribuindo o valor nas variaveis abaixo\n",
        "train_size = X_train.shape\n",
        "test_size = X_test.shape\n",
        "\n",
        "print(train_size, test_size)"
      ],
      "metadata": {
        "id": "DvJO41ta5_b_",
        "colab": {
          "base_uri": "https://localhost:8080/"
        },
        "outputId": "09628472-6f27-45fd-8a1f-2dc3b7f6e32b"
      },
      "execution_count": 5,
      "outputs": [
        {
          "output_type": "stream",
          "name": "stdout",
          "text": [
            "(1257, 64) (540, 64)\n"
          ]
        }
      ]
    },
    {
      "cell_type": "markdown",
      "source": [
        "## 04 - Inicializando e treinando o modelo\n",
        "\n",
        "Agora vamos carregar e treinar o modelo utilizando os dados da partição de treino.\n",
        "\n",
        "Vamos utilizar a classe MLPClassifier do sklearn para instanciar a nossa rede (https://scikit-learn.org/stable/modules/generated/sklearn.neural_network.MLPClassifier.html#sklearn.neural_network.MLPClassifier)\n",
        "\n",
        "Crie um modelo que contenha 3 camadas escondidas de dimensão (50,20,10) utilizando a função de ativação relu, otimizador adam, e learning rate 0.001. (Utilize max_iter=300)"
      ],
      "metadata": {
        "id": "hu0FsBvX7k57"
      }
    },
    {
      "cell_type": "code",
      "source": [
        "# 4.1 - Inicialize o modelo instanciando o classificador com o sklearn e atribua a variavel network\n",
        "\n",
        "# INSIRA O CÓDIGO AQUI\n",
        "network = MLPClassifier(hidden_layer_sizes=(50, 20, 10), activation='relu', solver='adam', learning_rate_init=0.001, max_iter=300)\n",
        "\n",
        "\n",
        "print(network.activation, network.solver,\n",
        "      network.learning_rate_init, network.hidden_layer_sizes)"
      ],
      "metadata": {
        "id": "QKhgcVs379tQ",
        "colab": {
          "base_uri": "https://localhost:8080/"
        },
        "outputId": "096fa35e-bc5d-42d0-fad7-f04a677b2f90"
      },
      "execution_count": 6,
      "outputs": [
        {
          "output_type": "stream",
          "name": "stdout",
          "text": [
            "relu adam 0.001 (50, 20, 10)\n"
          ]
        }
      ]
    },
    {
      "cell_type": "code",
      "source": [
        "# 4.2 - Utilize a função fit para realizar o treinamento com as partições X_train e y_train\n",
        "\n",
        "# INSIRA O CÓDIGO AQUI\n",
        "network.fit(X_train, y_train)"
      ],
      "metadata": {
        "id": "8qwPS8sfac7E",
        "colab": {
          "base_uri": "https://localhost:8080/",
          "height": 75
        },
        "outputId": "34623181-ae1d-4f1f-be18-775a91b3c1c6"
      },
      "execution_count": 7,
      "outputs": [
        {
          "output_type": "execute_result",
          "data": {
            "text/plain": [
              "MLPClassifier(hidden_layer_sizes=(50, 20, 10), max_iter=300)"
            ],
            "text/html": [
              "<style>#sk-container-id-1 {color: black;background-color: white;}#sk-container-id-1 pre{padding: 0;}#sk-container-id-1 div.sk-toggleable {background-color: white;}#sk-container-id-1 label.sk-toggleable__label {cursor: pointer;display: block;width: 100%;margin-bottom: 0;padding: 0.3em;box-sizing: border-box;text-align: center;}#sk-container-id-1 label.sk-toggleable__label-arrow:before {content: \"▸\";float: left;margin-right: 0.25em;color: #696969;}#sk-container-id-1 label.sk-toggleable__label-arrow:hover:before {color: black;}#sk-container-id-1 div.sk-estimator:hover label.sk-toggleable__label-arrow:before {color: black;}#sk-container-id-1 div.sk-toggleable__content {max-height: 0;max-width: 0;overflow: hidden;text-align: left;background-color: #f0f8ff;}#sk-container-id-1 div.sk-toggleable__content pre {margin: 0.2em;color: black;border-radius: 0.25em;background-color: #f0f8ff;}#sk-container-id-1 input.sk-toggleable__control:checked~div.sk-toggleable__content {max-height: 200px;max-width: 100%;overflow: auto;}#sk-container-id-1 input.sk-toggleable__control:checked~label.sk-toggleable__label-arrow:before {content: \"▾\";}#sk-container-id-1 div.sk-estimator input.sk-toggleable__control:checked~label.sk-toggleable__label {background-color: #d4ebff;}#sk-container-id-1 div.sk-label input.sk-toggleable__control:checked~label.sk-toggleable__label {background-color: #d4ebff;}#sk-container-id-1 input.sk-hidden--visually {border: 0;clip: rect(1px 1px 1px 1px);clip: rect(1px, 1px, 1px, 1px);height: 1px;margin: -1px;overflow: hidden;padding: 0;position: absolute;width: 1px;}#sk-container-id-1 div.sk-estimator {font-family: monospace;background-color: #f0f8ff;border: 1px dotted black;border-radius: 0.25em;box-sizing: border-box;margin-bottom: 0.5em;}#sk-container-id-1 div.sk-estimator:hover {background-color: #d4ebff;}#sk-container-id-1 div.sk-parallel-item::after {content: \"\";width: 100%;border-bottom: 1px solid gray;flex-grow: 1;}#sk-container-id-1 div.sk-label:hover label.sk-toggleable__label {background-color: #d4ebff;}#sk-container-id-1 div.sk-serial::before {content: \"\";position: absolute;border-left: 1px solid gray;box-sizing: border-box;top: 0;bottom: 0;left: 50%;z-index: 0;}#sk-container-id-1 div.sk-serial {display: flex;flex-direction: column;align-items: center;background-color: white;padding-right: 0.2em;padding-left: 0.2em;position: relative;}#sk-container-id-1 div.sk-item {position: relative;z-index: 1;}#sk-container-id-1 div.sk-parallel {display: flex;align-items: stretch;justify-content: center;background-color: white;position: relative;}#sk-container-id-1 div.sk-item::before, #sk-container-id-1 div.sk-parallel-item::before {content: \"\";position: absolute;border-left: 1px solid gray;box-sizing: border-box;top: 0;bottom: 0;left: 50%;z-index: -1;}#sk-container-id-1 div.sk-parallel-item {display: flex;flex-direction: column;z-index: 1;position: relative;background-color: white;}#sk-container-id-1 div.sk-parallel-item:first-child::after {align-self: flex-end;width: 50%;}#sk-container-id-1 div.sk-parallel-item:last-child::after {align-self: flex-start;width: 50%;}#sk-container-id-1 div.sk-parallel-item:only-child::after {width: 0;}#sk-container-id-1 div.sk-dashed-wrapped {border: 1px dashed gray;margin: 0 0.4em 0.5em 0.4em;box-sizing: border-box;padding-bottom: 0.4em;background-color: white;}#sk-container-id-1 div.sk-label label {font-family: monospace;font-weight: bold;display: inline-block;line-height: 1.2em;}#sk-container-id-1 div.sk-label-container {text-align: center;}#sk-container-id-1 div.sk-container {/* jupyter's `normalize.less` sets `[hidden] { display: none; }` but bootstrap.min.css set `[hidden] { display: none !important; }` so we also need the `!important` here to be able to override the default hidden behavior on the sphinx rendered scikit-learn.org. See: https://github.com/scikit-learn/scikit-learn/issues/21755 */display: inline-block !important;position: relative;}#sk-container-id-1 div.sk-text-repr-fallback {display: none;}</style><div id=\"sk-container-id-1\" class=\"sk-top-container\"><div class=\"sk-text-repr-fallback\"><pre>MLPClassifier(hidden_layer_sizes=(50, 20, 10), max_iter=300)</pre><b>In a Jupyter environment, please rerun this cell to show the HTML representation or trust the notebook. <br />On GitHub, the HTML representation is unable to render, please try loading this page with nbviewer.org.</b></div><div class=\"sk-container\" hidden><div class=\"sk-item\"><div class=\"sk-estimator sk-toggleable\"><input class=\"sk-toggleable__control sk-hidden--visually\" id=\"sk-estimator-id-1\" type=\"checkbox\" checked><label for=\"sk-estimator-id-1\" class=\"sk-toggleable__label sk-toggleable__label-arrow\">MLPClassifier</label><div class=\"sk-toggleable__content\"><pre>MLPClassifier(hidden_layer_sizes=(50, 20, 10), max_iter=300)</pre></div></div></div></div></div>"
            ]
          },
          "metadata": {},
          "execution_count": 7
        }
      ]
    },
    {
      "cell_type": "markdown",
      "source": [
        "## 05 - Avaliando o resultado\n",
        "\n",
        "Utilize a função predict, para realizar as predições com o conjunto X_test"
      ],
      "metadata": {
        "id": "AnqmJke3-0Sb"
      }
    },
    {
      "cell_type": "code",
      "source": [
        "# 5.1 - Utilize a função predict a partir do modelo treinado\n",
        "\n",
        "# INSIRA O CÓDIGO AQUI\n",
        "predictions= network.predict(X_test)\n",
        "\n",
        "print(\n",
        "    f\"Classification report for classifier {network}:\\n\"\n",
        "    f\"{metrics.classification_report(y_test, predictions)}\\n\"\n",
        ")\n"
      ],
      "metadata": {
        "id": "ZSZFppnR_PMR",
        "colab": {
          "base_uri": "https://localhost:8080/"
        },
        "outputId": "55c44490-a09a-4f68-ad3d-7c98b7961b98"
      },
      "execution_count": 8,
      "outputs": [
        {
          "output_type": "stream",
          "name": "stdout",
          "text": [
            "Classification report for classifier MLPClassifier(hidden_layer_sizes=(50, 20, 10), max_iter=300):\n",
            "              precision    recall  f1-score   support\n",
            "\n",
            "           0       1.00      0.98      0.99        53\n",
            "           1       0.96      0.98      0.97        50\n",
            "           2       0.96      1.00      0.98        47\n",
            "           3       1.00      0.96      0.98        54\n",
            "           4       0.98      1.00      0.99        60\n",
            "           5       0.98      0.94      0.96        66\n",
            "           6       1.00      0.96      0.98        53\n",
            "           7       0.98      0.98      0.98        55\n",
            "           8       0.87      0.93      0.90        43\n",
            "           9       0.97      0.98      0.97        59\n",
            "\n",
            "    accuracy                           0.97       540\n",
            "   macro avg       0.97      0.97      0.97       540\n",
            "weighted avg       0.97      0.97      0.97       540\n",
            "\n",
            "\n"
          ]
        }
      ]
    },
    {
      "cell_type": "markdown",
      "source": [
        "Podemos verificar os parâmetros da rede a partir do atributo coefs_.\n",
        "Da mesma forma, podemos acessar o valor de bias de cada neurônio acessando o atributo intercepts_.\n",
        "\n",
        "Acesse os atributos coefs_ e intercepts_ da rede para verificar a dimensão dos conjuntos de pesos da rede criada. Utilize esses valores para calcular o numero de parâmetros treinaivéis que a nossa rede possui.\n"
      ],
      "metadata": {
        "id": "QSCIErIHB_-Q"
      }
    },
    {
      "cell_type": "code",
      "source": [
        "weights = network.coefs_\n",
        "bias    = network.intercepts_\n",
        "\n",
        "# 5.2 - Compute o numero de parametros e substitua o valor da variável abaixo com o numero de parametros do modelo\n",
        "# Para os coeficientes (pesos)\n",
        "parameters_number = 0\n",
        "for layer_coefs in weights:\n",
        "    parameters_number += layer_coefs.size\n",
        "\n",
        "# Para os intercepts (bias)\n",
        "for layer_intercepts in bias:\n",
        "    parameters_number += layer_intercepts.size\n",
        "\n",
        "print(parameters_number)"
      ],
      "metadata": {
        "id": "bWGuZAF7AHf_",
        "colab": {
          "base_uri": "https://localhost:8080/"
        },
        "outputId": "15e81af0-ffbe-4a68-c7f5-53da29f492ae"
      },
      "execution_count": 9,
      "outputs": [
        {
          "output_type": "stream",
          "name": "stdout",
          "text": [
            "4590\n"
          ]
        }
      ]
    },
    {
      "cell_type": "markdown",
      "source": [
        "## 06 - Testando em um dataset externo\n",
        "\n",
        "Treinamos e testamos nosso modelo em um unico dataset. Na prática, vamos querer aplicar o nosso modelo em diferentes conjuntos e dados.\n",
        "\n",
        "Para simular este caso, vamos carregar alguns imagens do dataset MNIST. Podemos acessar o MNIST pelo PyTorch, utlizando o módulo datasets.MNIST.\n",
        "\n",
        "O MNIST também é um dataset para classificação de digitos, porém, o dataset é composto por imagens em tons de cinza de dimensão 28x28 com anotações entre 0-9.\n",
        "\n",
        "As células seguintes são utilizadas para baixar a partição de teste do dataset localmente, carregar os exemplos utilizando a classe dataloader do PyTorch.\n",
        "\n",
        "Podemos manipular o dataloader como um objeto do tipo iterator, desta forma, podemos obter os exemplos utilizando a função next() do python; ou qualquer outra função compativel com iterators.\n",
        "\n",
        "Utilizamos o batch_size igual a 10, que significa que para cada iteração do dataloader obtemos 10 imagens do conjunto de teste.\n",
        "\n",
        "As imagens e labels são retornadas ao final do processo utilizando as variaveis mnist_images e mnist_label."
      ],
      "metadata": {
        "id": "-lGp8gW3IHnP"
      }
    },
    {
      "cell_type": "code",
      "source": [
        "import torch\n",
        "from torch.utils import data\n",
        "from torchvision import transforms, datasets\n",
        "\n",
        "transform = transforms.ToTensor()\n",
        "\n",
        "test_ds = datasets.MNIST(root = \".\", train = False,\n",
        "                         download = True, transform = transform)\n",
        "\n",
        "test_dl = data.DataLoader(\n",
        "    test_ds, batch_size=50, shuffle=True,\n",
        "    num_workers=2, pin_memory=True\n",
        ")\n",
        "\n",
        "mnist_test_images, mnist_test_labels = next(iter(test_dl))\n",
        "\n",
        "mnist_test_images  = mnist_test_images.numpy()\n",
        "mnist_test_labels  = mnist_test_labels.numpy()"
      ],
      "metadata": {
        "id": "VO7Ij0U3IMCF",
        "colab": {
          "base_uri": "https://localhost:8080/"
        },
        "outputId": "ecbf145d-db75-461a-ff5f-4f8ee4962445"
      },
      "execution_count": 10,
      "outputs": [
        {
          "output_type": "stream",
          "name": "stdout",
          "text": [
            "Downloading http://yann.lecun.com/exdb/mnist/train-images-idx3-ubyte.gz\n",
            "Downloading http://yann.lecun.com/exdb/mnist/train-images-idx3-ubyte.gz to ./MNIST/raw/train-images-idx3-ubyte.gz\n"
          ]
        },
        {
          "output_type": "stream",
          "name": "stderr",
          "text": [
            "100%|██████████| 9912422/9912422 [00:00<00:00, 88989869.87it/s]\n"
          ]
        },
        {
          "output_type": "stream",
          "name": "stdout",
          "text": [
            "Extracting ./MNIST/raw/train-images-idx3-ubyte.gz to ./MNIST/raw\n",
            "\n",
            "Downloading http://yann.lecun.com/exdb/mnist/train-labels-idx1-ubyte.gz\n",
            "Downloading http://yann.lecun.com/exdb/mnist/train-labels-idx1-ubyte.gz to ./MNIST/raw/train-labels-idx1-ubyte.gz\n"
          ]
        },
        {
          "output_type": "stream",
          "name": "stderr",
          "text": [
            "100%|██████████| 28881/28881 [00:00<00:00, 29259829.43it/s]\n"
          ]
        },
        {
          "output_type": "stream",
          "name": "stdout",
          "text": [
            "Extracting ./MNIST/raw/train-labels-idx1-ubyte.gz to ./MNIST/raw\n",
            "\n",
            "Downloading http://yann.lecun.com/exdb/mnist/t10k-images-idx3-ubyte.gz\n",
            "Downloading http://yann.lecun.com/exdb/mnist/t10k-images-idx3-ubyte.gz to ./MNIST/raw/t10k-images-idx3-ubyte.gz\n"
          ]
        },
        {
          "output_type": "stream",
          "name": "stderr",
          "text": [
            "100%|██████████| 1648877/1648877 [00:00<00:00, 28874805.95it/s]\n"
          ]
        },
        {
          "output_type": "stream",
          "name": "stdout",
          "text": [
            "Extracting ./MNIST/raw/t10k-images-idx3-ubyte.gz to ./MNIST/raw\n",
            "\n",
            "Downloading http://yann.lecun.com/exdb/mnist/t10k-labels-idx1-ubyte.gz\n",
            "Downloading http://yann.lecun.com/exdb/mnist/t10k-labels-idx1-ubyte.gz to ./MNIST/raw/t10k-labels-idx1-ubyte.gz\n"
          ]
        },
        {
          "output_type": "stream",
          "name": "stderr",
          "text": [
            "100%|██████████| 4542/4542 [00:00<00:00, 5573589.46it/s]\n"
          ]
        },
        {
          "output_type": "stream",
          "name": "stdout",
          "text": [
            "Extracting ./MNIST/raw/t10k-labels-idx1-ubyte.gz to ./MNIST/raw\n",
            "\n"
          ]
        }
      ]
    },
    {
      "cell_type": "markdown",
      "source": [
        "Imprimindo a dimensão da imagem, podemos perceber que a representação utilizada pelo PyTorch não corresponde a utilizada pelo nosso modelo.\n",
        "\n",
        "O PyTorch representa os exemplos do mnist como (B, C, H, W), onde B é o tamanho do batch (numero de imagens), C o número de canais, H a altura da imagem e W a largura da imagem."
      ],
      "metadata": {
        "id": "oNAjrZv_MIHr"
      }
    },
    {
      "cell_type": "code",
      "source": [
        "print(mnist_test_images.shape)"
      ],
      "metadata": {
        "id": "X27nL-EsJJk_",
        "colab": {
          "base_uri": "https://localhost:8080/"
        },
        "outputId": "4140e1b8-bbbf-4447-8e44-63d3e9e8a7f3"
      },
      "execution_count": 11,
      "outputs": [
        {
          "output_type": "stream",
          "name": "stdout",
          "text": [
            "(50, 1, 28, 28)\n"
          ]
        }
      ]
    },
    {
      "cell_type": "markdown",
      "source": [
        "Para utilizar essa imagem no nosso modelo, precisamos redimensionar os dados para 8x8 (mesmo tamanho utilizado pela nossa rede). Em seguida, devemos converter essa entrada para um vetor de dimensão (B, 64), transformando nossa imagem 8x8 é um vetor unidimensional.\n",
        "\n",
        "-> Utilize a função resize do opencv (https://learnopencv.com/image-resizing-with-opencv/) para redimensionar nossos exemplos e em seguida aplique as funções da biblioteca numpy para obter o vetor nas dimensões esperada pelo modelo.\n",
        "\n",
        "Dica 01: Temos um conjunto de B imagens na variavel mnist_images, itere sobre a variavel e realize as operações para cada imagem individualmente.\n",
        "\n",
        "Dica 02: Remova a dimensão 1 que representa C antes do resize. O opencv utiliza a representação (H,W,C) - altura, largura, canais. Podendo omitir o valor dos canais quando C=1 (i.e., (H,W)). Utilize o numpy.squeeze (https://numpy.org/doc/stable/reference/generated/numpy.squeeze.html)\n",
        "\n",
        "Dica 03: Para transformar a imagem em um vetor unidimensional utilize as funções flatten ou reshape do numpy"
      ],
      "metadata": {
        "id": "SyqcJjadMe7X"
      }
    },
    {
      "cell_type": "code",
      "source": [
        "squeezed_images = []\n",
        "\n",
        "# 6.1 - remova a dimensão extra que representa os canais\n",
        "\n",
        "# INSIRA O CÓDIGO AQUI\n",
        "\n",
        "for img in mnist_test_images:\n",
        "\n",
        "  squeezed_img = np.squeeze(img)\n",
        "\n",
        "  squeezed_images.append(squeezed_img)\n",
        "\n",
        "squeezed_images = np.array(squeezed_images)\n",
        "\n",
        "print(squeezed_images.shape)"
      ],
      "metadata": {
        "id": "GX1s2zMmMFz3",
        "colab": {
          "base_uri": "https://localhost:8080/"
        },
        "outputId": "021c6276-045d-4cf0-8533-f74c2956bff4"
      },
      "execution_count": 12,
      "outputs": [
        {
          "output_type": "stream",
          "name": "stdout",
          "text": [
            "(50, 28, 28)\n"
          ]
        }
      ]
    },
    {
      "cell_type": "code",
      "source": [
        "resized_images = []\n",
        "\n",
        "# 6.2 - redimensione as imagens para o tamanho 8x8\n",
        "\n",
        "# INSIRA O CÓDIGO AQUI\n",
        "for img in squeezed_images:\n",
        "\n",
        "  resized_img = cv2.resize(img, (8, 8))\n",
        "\n",
        "  resized_images.append(resized_img)\n",
        "\n",
        "resized_images = np.array(resized_images)\n",
        "\n",
        "print(resized_images.shape)"
      ],
      "metadata": {
        "id": "e5joP8dePS6I",
        "colab": {
          "base_uri": "https://localhost:8080/"
        },
        "outputId": "e2f78fed-4497-4397-df3d-ecf23a24f9dc"
      },
      "execution_count": 13,
      "outputs": [
        {
          "output_type": "stream",
          "name": "stdout",
          "text": [
            "(50, 8, 8)\n"
          ]
        }
      ]
    },
    {
      "cell_type": "code",
      "source": [
        "mnist_transformed = []\n",
        "\n",
        "#6.3 - transforme as imagens 8x8 em vetores de tamanho 64\n",
        "\n",
        "for resized_img in resized_images:\n",
        "\n",
        "  flattened_img = resized_img.flatten()\n",
        "\n",
        "  mnist_transformed.append(flattened_img)\n",
        "\n",
        "mnist_transformed = np.array(mnist_transformed)\n",
        "print(mnist_transformed.shape)\n",
        ""
      ],
      "metadata": {
        "id": "VnPr4hFDPyy7",
        "colab": {
          "base_uri": "https://localhost:8080/"
        },
        "outputId": "aa5c7bcd-c205-420d-ea11-0ef86a90cf71"
      },
      "execution_count": 14,
      "outputs": [
        {
          "output_type": "stream",
          "name": "stdout",
          "text": [
            "(50, 64)\n"
          ]
        }
      ]
    },
    {
      "cell_type": "markdown",
      "source": [
        "-> Execute as próximas células para visualizar as imagens antes e depois das transformações"
      ],
      "metadata": {
        "id": "9Jrvw0WtRQIS"
      }
    },
    {
      "cell_type": "code",
      "source": [
        "# Visualizando as imagens 28x28 antes da transformação\n",
        "\n",
        "_, axes = plt.subplots(nrows=1, ncols=4, figsize=(10, 3))\n",
        "for ax, image, label in zip(axes, squeezed_images, mnist_test_labels):\n",
        "    ax.set_axis_off()\n",
        "    ax.imshow(image, cmap=plt.cm.gray_r, interpolation=\"nearest\")\n",
        "    ax.set_title(f\"Label: {label}\")"
      ],
      "metadata": {
        "id": "liZztWxDQ4bj",
        "colab": {
          "base_uri": "https://localhost:8080/",
          "height": 227
        },
        "outputId": "a97a005e-59ec-4677-afb1-ee92b9b3491c"
      },
      "execution_count": 15,
      "outputs": [
        {
          "output_type": "display_data",
          "data": {
            "text/plain": [
              "<Figure size 1000x300 with 4 Axes>"
            ],
            "image/png": "[encoded data removed]"
          },
          "metadata": {}
        }
      ]
    },
    {
      "cell_type": "code",
      "source": [
        "# Visualizando as imagens 8x8\n",
        "\n",
        "_, axes = plt.subplots(nrows=1, ncols=4, figsize=(10, 3))\n",
        "for ax, image, label in zip(axes, mnist_transformed, mnist_test_labels):\n",
        "    ax.set_axis_off()\n",
        "    image = image.reshape(8, 8)\n",
        "    ax.imshow(image, cmap=plt.cm.gray_r, interpolation=\"nearest\")\n",
        "    ax.set_title(f\"Label: {label}\")"
      ],
      "metadata": {
        "id": "PmwydNYNLAKB",
        "colab": {
          "base_uri": "https://localhost:8080/",
          "height": 227
        },
        "outputId": "0ff27ec2-01fa-469f-915d-162a305b9a2d"
      },
      "execution_count": 16,
      "outputs": [
        {
          "output_type": "display_data",
          "data": {
            "text/plain": [
              "<Figure size 1000x300 with 4 Axes>"
            ],
            "image/png": "[encoded data removed]"
          },
          "metadata": {}
        }
      ]
    },
    {
      "cell_type": "markdown",
      "source": [
        "Vamos passar agora nossas imagens transformadas para que o modelo realize as predições\n",
        "\n",
        "-> Utilize a função predict para obter os resultados a partir da variavel network, utilizando como parametro nossa variavel mnist_transformed"
      ],
      "metadata": {
        "id": "sGKpkkP5RoTu"
      }
    },
    {
      "cell_type": "code",
      "source": [
        "# 6.5 - Utilize a função predict a partir do modelo treinado\n",
        "predictions_mnist = network.predict(mnist_transformed)\n",
        "\n",
        "print(\n",
        "    f\"Classification report for classifier {network}:\\n\"\n",
        "    f\"{metrics.classification_report(mnist_test_labels, predictions_mnist)}\\n\"\n",
        ")"
      ],
      "metadata": {
        "id": "L7Nmvc4QRlhF",
        "colab": {
          "base_uri": "https://localhost:8080/"
        },
        "outputId": "d8180495-6fe3-4b9c-912e-5bf55b49d599"
      },
      "execution_count": 17,
      "outputs": [
        {
          "output_type": "stream",
          "name": "stdout",
          "text": [
            "Classification report for classifier MLPClassifier(hidden_layer_sizes=(50, 20, 10), max_iter=300):\n",
            "              precision    recall  f1-score   support\n",
            "\n",
            "           0       0.00      0.00      0.00         6\n",
            "           1       0.11      0.33      0.17         3\n",
            "           2       0.00      0.00      0.00         8\n",
            "           3       0.08      0.67      0.15         3\n",
            "           4       0.20      0.67      0.31         3\n",
            "           5       0.00      0.00      0.00         6\n",
            "           6       0.00      0.00      0.00         5\n",
            "           7       0.00      0.00      0.00         4\n",
            "           8       0.00      0.00      0.00         6\n",
            "           9       0.00      0.00      0.00         6\n",
            "\n",
            "    accuracy                           0.10        50\n",
            "   macro avg       0.04      0.17      0.06        50\n",
            "weighted avg       0.02      0.10      0.04        50\n",
            "\n",
            "\n"
          ]
        },
        {
          "output_type": "stream",
          "name": "stderr",
          "text": [
            "/usr/local/lib/python3.10/dist-packages/sklearn/metrics/_classification.py:1344: UndefinedMetricWarning: Precision and F-score are ill-defined and being set to 0.0 in labels with no predicted samples. Use `zero_division` parameter to control this behavior.\n",
            "  _warn_prf(average, modifier, msg_start, len(result))\n",
            "/usr/local/lib/python3.10/dist-packages/sklearn/metrics/_classification.py:1344: UndefinedMetricWarning: Precision and F-score are ill-defined and being set to 0.0 in labels with no predicted samples. Use `zero_division` parameter to control this behavior.\n",
            "  _warn_prf(average, modifier, msg_start, len(result))\n",
            "/usr/local/lib/python3.10/dist-packages/sklearn/metrics/_classification.py:1344: UndefinedMetricWarning: Precision and F-score are ill-defined and being set to 0.0 in labels with no predicted samples. Use `zero_division` parameter to control this behavior.\n",
            "  _warn_prf(average, modifier, msg_start, len(result))\n"
          ]
        }
      ]
    },
    {
      "cell_type": "markdown",
      "source": [
        "-> Avalie o resultado anterior. O modelo manteve a acurácia?"
      ],
      "metadata": {
        "id": "jG3N1o6tS6P0"
      }
    },
    {
      "cell_type": "markdown",
      "source": [
        "### Extra (Opcional)\n",
        "\n",
        "Na célula abaixo carregamos um conjunto adicional de treino do mnist.\n",
        "Tente treinar o mesmo modelo anterior utilizando esse novo conjunto e avalie o resultado final.\n",
        "\n",
        "Teste o treinamento com imagens 8x8 e também com 28x28. O resultado é alterado utilizando o mesmo modelo?\n",
        "\n",
        "Teste diferentes tamanhos de imagens, diferentes arquiteturas e diferentes métodos de resize para avaliar as mudanças dos resultados.\n"
      ],
      "metadata": {
        "id": "nBwCG7wfUMGS"
      }
    },
    {
      "cell_type": "code",
      "source": [
        "train_ds = datasets.MNIST(root = \".\", train = False,\n",
        "                         download = True, transform = transform)\n",
        "\n",
        "train_dl = data.DataLoader(train_ds, batch_size=1000,\n",
        "          shuffle=True, num_workers=2, pin_memory=True)\n",
        "\n",
        "mnist_train_images, mnist_train_labels = next(iter(train_dl))\n",
        "\n",
        "mnist_train_images = mnist_train_images.numpy()\n",
        "mnist_train_labels  = mnist_train_labels.numpy()"
      ],
      "metadata": {
        "id": "PmjmKsm8TxgT"
      },
      "execution_count": 18,
      "outputs": []
    },
    {
      "cell_type": "code",
      "source": [
        "# E.1 - Transforme os dados\n",
        "mnist_train_transformed = []\n",
        "\n",
        "\n",
        "for train_img in mnist_train_images:\n",
        "\n",
        "  squeezed_img = np.squeeze(train_img)\n",
        "\n",
        "  resized_img = cv2.resize(squeezed_img, (8, 8))\n",
        "\n",
        "  flattened_img = resized_img.flatten()\n",
        "\n",
        "  mnist_train_transformed.append(flattened_img)\n",
        "\n",
        "mnist_train_transformed = np.array(mnist_train_transformed)\n",
        "\n",
        "\n",
        "print(mnist_train_transformed.shape)"
      ],
      "metadata": {
        "colab": {
          "base_uri": "https://localhost:8080/"
        },
        "id": "jMZRYnjuQ9CA",
        "outputId": "b5150550-c864-425a-89a4-090510cbe5aa"
      },
      "execution_count": 21,
      "outputs": [
        {
          "output_type": "stream",
          "name": "stdout",
          "text": [
            "(1000, 64)\n"
          ]
        }
      ]
    },
    {
      "cell_type": "code",
      "source": [
        "# E.2 - Crie e treine o modelo com o conjunto de treino\n",
        "\n",
        "network_28 = MLPClassifier(hidden_layer_sizes=(50, 20, 10), max_iter = 1000,\n",
        "                        activation='relu', solver=\"adam\", learning_rate='constant')\n",
        "\n",
        "network_28.fit(mnist_train_transformed,mnist_train_labels)\n",
        "\n",
        "print(network_28.activation, network_28.solver,\n",
        "      network_28.learning_rate_init, network_28.hidden_layer_sizes)\n",
        "\n",
        "# print(network.activation, network.solver,\n",
        "#       network.learning_rate_init, network.hidden_layer_sizes)"
      ],
      "metadata": {
        "id": "iElBNfDTUiKc",
        "colab": {
          "base_uri": "https://localhost:8080/"
        },
        "outputId": "f38dd691-711f-4621-f8b1-2ea93ea3151f"
      },
      "execution_count": 22,
      "outputs": [
        {
          "output_type": "stream",
          "name": "stdout",
          "text": [
            "relu adam 0.001 (50, 20, 10)\n"
          ]
        }
      ]
    },
    {
      "cell_type": "code",
      "source": [
        "# E.3 - Avalie o resultado utilizando o conjunto de teste\n",
        "\n",
        "predictions_28 = network_28.predict(X_test)\n",
        "\n",
        "print(\n",
        "    f\"Classification report for classifier {network}:\\n\"\n",
        "    f\"{metrics.classification_report(y_test, predictions_28)}\\n\"\n",
        ")"
      ],
      "metadata": {
        "colab": {
          "base_uri": "https://localhost:8080/"
        },
        "id": "nNWk-RDeRSMv",
        "outputId": "6cdf8081-5fbc-487e-ce36-8e8fc33f0a6f"
      },
      "execution_count": 23,
      "outputs": [
        {
          "output_type": "stream",
          "name": "stdout",
          "text": [
            "Classification report for classifier MLPClassifier(hidden_layer_sizes=(50, 20, 10), max_iter=300):\n",
            "              precision    recall  f1-score   support\n",
            "\n",
            "           0       0.64      0.60      0.62        53\n",
            "           1       0.00      0.00      0.00        50\n",
            "           2       0.00      0.00      0.00        47\n",
            "           3       0.17      1.00      0.29        54\n",
            "           4       0.00      0.00      0.00        60\n",
            "           5       0.17      0.08      0.10        66\n",
            "           6       0.01      0.02      0.01        53\n",
            "           7       0.00      0.00      0.00        55\n",
            "           8       0.00      0.00      0.00        43\n",
            "           9       0.00      0.00      0.00        59\n",
            "\n",
            "    accuracy                           0.17       540\n",
            "   macro avg       0.10      0.17      0.10       540\n",
            "weighted avg       0.10      0.17      0.10       540\n",
            "\n",
            "\n"
          ]
        },
        {
          "output_type": "stream",
          "name": "stderr",
          "text": [
            "/usr/local/lib/python3.10/dist-packages/sklearn/metrics/_classification.py:1344: UndefinedMetricWarning: Precision and F-score are ill-defined and being set to 0.0 in labels with no predicted samples. Use `zero_division` parameter to control this behavior.\n",
            "  _warn_prf(average, modifier, msg_start, len(result))\n",
            "/usr/local/lib/python3.10/dist-packages/sklearn/metrics/_classification.py:1344: UndefinedMetricWarning: Precision and F-score are ill-defined and being set to 0.0 in labels with no predicted samples. Use `zero_division` parameter to control this behavior.\n",
            "  _warn_prf(average, modifier, msg_start, len(result))\n",
            "/usr/local/lib/python3.10/dist-packages/sklearn/metrics/_classification.py:1344: UndefinedMetricWarning: Precision and F-score are ill-defined and being set to 0.0 in labels with no predicted samples. Use `zero_division` parameter to control this behavior.\n",
            "  _warn_prf(average, modifier, msg_start, len(result))\n"
          ]
        }
      ]
    },
    {
      "cell_type": "markdown",
      "source": [
        "## Treinamento com tamanho 28x28\n"
      ],
      "metadata": {
        "id": "mgED4-SjStQP"
      }
    },
    {
      "cell_type": "code",
      "source": [
        "# E.1 - Transforme os dados\n",
        "mnist_transformed = []\n",
        "\n",
        "for img in mnist_test_images:\n",
        "\n",
        "  squeezed_img = np.squeeze(img)\n",
        "\n",
        "  flattened_img = squeezed_img.flatten()\n",
        "\n",
        "  mnist_transformed.append(flattened_img)\n",
        "\n",
        "mnist_transformed = np.array(mnist_transformed)\n",
        "mnist_transformed.shape"
      ],
      "metadata": {
        "colab": {
          "base_uri": "https://localhost:8080/"
        },
        "id": "9htAK9KvStnX",
        "outputId": "2fa6f572-fad9-4406-a11d-d12f1a8908a1"
      },
      "execution_count": 24,
      "outputs": [
        {
          "output_type": "execute_result",
          "data": {
            "text/plain": [
              "(50, 784)"
            ]
          },
          "metadata": {},
          "execution_count": 24
        }
      ]
    },
    {
      "cell_type": "code",
      "source": [
        "# E.2 - Crie e treine o modelo com o conjunto de treino\n",
        "\n",
        "network_28 = MLPClassifier(hidden_layer_sizes=(50, 20, 10), max_iter = 1000,\n",
        "                        activation='relu', solver=\"adam\", learning_rate='constant')\n",
        "\n",
        "network_28.fit(mnist_train_transformed,mnist_train_labels)\n",
        "\n",
        "print(network_28.activation, network_28.solver,\n",
        "      network_28.learning_rate_init, network_28.hidden_layer_sizes)\n",
        "\n",
        "# print(network.activation, network.solver,\n",
        "#       network.learning_rate_init, network.hidden_layer_sizes)"
      ],
      "metadata": {
        "colab": {
          "base_uri": "https://localhost:8080/"
        },
        "id": "osld5t5NSvqv",
        "outputId": "4cf209e9-32a5-46e3-a6d0-0b59957d5b6d"
      },
      "execution_count": 25,
      "outputs": [
        {
          "output_type": "stream",
          "name": "stdout",
          "text": [
            "relu adam 0.001 (50, 20, 10)\n"
          ]
        }
      ]
    },
    {
      "cell_type": "code",
      "source": [
        "# E.3 - Avalie o resultado utilizando o conjunto de teste\n",
        "\n",
        "predictions_28 = network_28.predict(X_test)\n",
        "\n",
        "print(\n",
        "    f\"Classification report for classifier {network}:\\n\"\n",
        "    f\"{metrics.classification_report(y_test, predictions_28)}\\n\"\n",
        ")"
      ],
      "metadata": {
        "colab": {
          "base_uri": "https://localhost:8080/"
        },
        "id": "c2PYjT4US0Fv",
        "outputId": "40f23362-2903-477a-8824-34e4b7b995ad"
      },
      "execution_count": 26,
      "outputs": [
        {
          "output_type": "stream",
          "name": "stdout",
          "text": [
            "Classification report for classifier MLPClassifier(hidden_layer_sizes=(50, 20, 10), max_iter=300):\n",
            "              precision    recall  f1-score   support\n",
            "\n",
            "           0       0.82      0.94      0.88        53\n",
            "           1       0.00      0.00      0.00        50\n",
            "           2       0.07      0.06      0.07        47\n",
            "           3       0.44      0.22      0.30        54\n",
            "           4       0.50      0.02      0.03        60\n",
            "           5       0.33      0.03      0.06        66\n",
            "           6       0.01      0.02      0.01        53\n",
            "           7       0.00      0.00      0.00        55\n",
            "           8       0.00      0.00      0.00        43\n",
            "           9       0.20      0.12      0.15        59\n",
            "\n",
            "    accuracy                           0.14       540\n",
            "   macro avg       0.24      0.14      0.15       540\n",
            "weighted avg       0.25      0.14      0.15       540\n",
            "\n",
            "\n"
          ]
        },
        {
          "output_type": "stream",
          "name": "stderr",
          "text": [
            "/usr/local/lib/python3.10/dist-packages/sklearn/metrics/_classification.py:1344: UndefinedMetricWarning: Precision and F-score are ill-defined and being set to 0.0 in labels with no predicted samples. Use `zero_division` parameter to control this behavior.\n",
            "  _warn_prf(average, modifier, msg_start, len(result))\n",
            "/usr/local/lib/python3.10/dist-packages/sklearn/metrics/_classification.py:1344: UndefinedMetricWarning: Precision and F-score are ill-defined and being set to 0.0 in labels with no predicted samples. Use `zero_division` parameter to control this behavior.\n",
            "  _warn_prf(average, modifier, msg_start, len(result))\n",
            "/usr/local/lib/python3.10/dist-packages/sklearn/metrics/_classification.py:1344: UndefinedMetricWarning: Precision and F-score are ill-defined and being set to 0.0 in labels with no predicted samples. Use `zero_division` parameter to control this behavior.\n",
            "  _warn_prf(average, modifier, msg_start, len(result))\n"
          ]
        }
      ]
    }
  ]
}